{
  "cells": [
    {
      "cell_type": "markdown",
      "metadata": {
        "id": "view-in-github",
        "colab_type": "text"
      },
      "source": [
        "<a href=\"https://colab.research.google.com/github/quanticedu/IntroToML/blob/main/ML101/CodingOurFirstMLModel.ipynb\" target=\"_parent\"><img src=\"https://colab.research.google.com/assets/colab-badge.svg\" alt=\"Open In Colab\"/></a>"
      ]
    },
    {
      "cell_type": "markdown",
      "metadata": {
        "id": "TIhujqGV0TfZ"
      },
      "source": [
        "## Coding Our Model\n",
        "\n",
        "Before we begin, go to Tools > Settings > Editor and check \"Show line numbers.\" It'll help you follow along with the instructions in the lesson."
      ]
    },
    {
      "cell_type": "markdown",
      "metadata": {
        "id": "zsYIPgZ6C19J"
      },
      "source": [
        "### Graphing the Data\n",
        "This takes us right to where we left off. Make sure you remember how everything works."
      ]
    },
    {
      "cell_type": "code",
      "execution_count": null,
      "metadata": {
        "id": "mfi6e1pE4w1e"
      },
      "outputs": [],
      "source": [
        "import numpy as np\n",
        "import matplotlib.pyplot as plt\n",
        "from sklearn.model_selection import train_test_split\n",
        "\n",
        "X = np.array([10,24,37,51,65,79,88])\n",
        "y = np.array([57,66,79,75,90,87,98])\n",
        "\n",
        "X_train, X_test, y_train, y_test = train_test_split(X, y, test_size=0.2, random_state=12)\n",
        "\n",
        "plt.scatter(X_train, y_train, color=\"blue\", label=\"Training Set\")\n",
        "plt.scatter(X_test, y_test, color=\"purple\", label=\"Testing Set\")\n",
        "plt.title(\"ML 101 Grade Predictor\")\n",
        "plt.legend()\n",
        "plt.xlabel(\"Minutes studied\")\n",
        "plt.ylabel(\"Smartcase Grade\")"
      ]
    },
    {
      "cell_type": "markdown",
      "metadata": {
        "id": "bpmkC8L0DUN7"
      },
      "source": [
        "### Creating the LinearRegression Class"
      ]
    },
    {
      "cell_type": "code",
      "execution_count": null,
      "metadata": {
        "id": "E8DBZ0K-Alld"
      },
      "outputs": [],
      "source": [
        "class LinearRegression():\n",
        "\n",
        "  def __init__(self): # add hyperparameters and parameters\n",
        "    # assign all to object attributes\n",
        "\n",
        "  def predict(self, X):\n",
        "    y_predicted = # what's the linear regression formula?\n",
        "    return y_predicted\n",
        "\n",
        "  def train(self, X, y):\n",
        "    m = # get the total number of examples, m\n",
        "\n",
        "    for _ in range(): # how do we determine the number of iterations?\n",
        "      y_predicted = # get the prediction\n",
        "      dw = # derivative of w\n",
        "      db = # derivative of b\n",
        "      # update w\n",
        "      # update b\n",
        "\n",
        "  def mse(self, y_predicted, y):\n",
        "    m = X.size\n",
        "    return # what's the MSE formula?"
      ]
    },
    {
      "cell_type": "markdown",
      "metadata": {
        "id": "oW6yKQdnGdq2"
      },
      "source": [
        "### Instantiating the Class"
      ]
    },
    {
      "cell_type": "code",
      "execution_count": null,
      "metadata": {
        "id": "gG-kumJlGdS-"
      },
      "outputs": [],
      "source": [
        "grade_predictor = # instantiate the class\n",
        "grade_predictor.train() # what data goes first?\n",
        "smartcase_predictions = grade_predictor.predict() # what data does predict need?\n",
        "mse_value = grade_predictor.mse() # what data does mse need?"
      ]
    },
    {
      "cell_type": "markdown",
      "metadata": {
        "id": "qHnVOAJRGkOl"
      },
      "source": [
        "### Graphing the Model"
      ]
    },
    {
      "cell_type": "code",
      "execution_count": null,
      "metadata": {
        "id": "V-6rndBUGmHL"
      },
      "outputs": [],
      "source": [
        "plt.scatter(X_train, y_train, color=\"blue\", label=\"Training Set\")\n",
        "plt.scatter(X_test, y_test, color=\"purple\", label=\"Testing Set\")\n",
        "plt.title(\"ML 101 Grade Predictor\")\n",
        "plt.legend()\n",
        "plt.xlabel(\"Minutes studied\")\n",
        "plt.ylabel(\"Smartcase Grade\")\n",
        "\n",
        "x_data = np.linspace(1,100,100)\n",
        "plt.plot(x_data, W_VALUE_HERE * x_data + B_VALUE_HERE,  color=\"red\", linewidth=2, label=\"Prediction\")\n",
        "print(f\"MSE of our test set: {mse_value}\")\n",
        "print(f\"Model's parameters are: w: {W_VALUE_HERE}, b: {B_VALUE_HERE}\")"
      ]
    },
    {
      "cell_type": "markdown",
      "metadata": {
        "id": "eLI4SkIEGpH2"
      },
      "source": [
        "### Deploying the Model"
      ]
    },
    {
      "cell_type": "code",
      "execution_count": null,
      "metadata": {
        "id": "6cM4zPeWRfyP"
      },
      "outputs": [],
      "source": [
        "your_grade = grade_predictor.predict(0) # put the number of minutes you plan to study here\n",
        "if(your_grade > 100):\n",
        "  your_grade = 100\n",
        "if(your_grade < 0):\n",
        "  your_grade = 0\n",
        "print(f\"Our model predicts you'll earn a {round(your_grade,1)}% on the upcoming Quantic Smartcase.\")\n",
        "print(f\"Formula used to make this prediction: y = {round(W_VALUE_HERE, 3)}x + {round(B_VALUE_HERE, 3)}\")"
      ]
    }
  ],
  "metadata": {
    "colab": {
      "name": "Coding Our First ML Model",
      "provenance": [],
      "include_colab_link": true
    },
    "kernelspec": {
      "display_name": "Python 3",
      "name": "python3"
    },
    "language_info": {
      "name": "python",
      "version": "3.10.0"
    }
  },
  "nbformat": 4,
  "nbformat_minor": 0
}