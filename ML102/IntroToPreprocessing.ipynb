{
  "nbformat": 4,
  "nbformat_minor": 0,
  "metadata": {
    "colab": {
      "name": "Intro_to_Preprocessing.ipynb",
      "provenance": [],
      "include_colab_link": true
    },
    "kernelspec": {
      "name": "python3",
      "display_name": "Python 3"
    },
    "language_info": {
      "name": "python"
    }
  },
  "cells": [
    {
      "cell_type": "markdown",
      "metadata": {
        "id": "view-in-github",
        "colab_type": "text"
      },
      "source": [
        "<a href=\"https://colab.research.google.com/github/quanticedu/IntroToML/blob/main/ML102/IntroToPreprocessing.ipynb\" target=\"_parent\"><img src=\"https://colab.research.google.com/assets/colab-badge.svg\" alt=\"Open In Colab\"/></a>"
      ]
    },
    {
      "cell_type": "markdown",
      "source": [
        "## Welcome to the CSV Files\n",
        "In this lesson we'll learn the basics of data preprocessing for machine learning using Python and the Pandas library."
      ],
      "metadata": {
        "id": "EM2WGixeoFKe"
      }
    },
    {
      "cell_type": "markdown",
      "source": [
        "## Introducing Pandas\n",
        "\n",
        "Pandas, short for 'panel data', makes data manipulation easy. With Pandas, a dataset can be converted into a Python object known as a **DataFrame**, which comes with a variety of handy methods."
      ],
      "metadata": {
        "id": "_Fk4-53U-D61"
      }
    },
    {
      "cell_type": "code",
      "source": [
        "import pandas as pd\n",
        "\n",
        "# in vanilla Python, a DataFrame's structure is roughly analogous to the following:\n",
        "dataframe_struct = {\"Celestial Object\": [\"Mars\", \"Saturn\", \"Pluto (RIP)\", \"Mercury\", \"Europa\", \"Titan\"],\n",
        "                    \"Miles away (in M)\": [208, 1008, 3292, 64, 1100, 1212],\n",
        "                    \"Inhabited by aliens?\": [True, False, False, True, True, True]}\n",
        "# convert dataframe_struct into a DataFrame\n",
        "\n",
        "# print the DataFrame's first five rows\n",
        "df.head()"
      ],
      "metadata": {
        "id": "1AUZjrME-i2x"
      },
      "execution_count": null,
      "outputs": []
    },
    {
      "cell_type": "markdown",
      "source": [
        "## Mount Google Drive for Data Import\n",
        "\n",
        "The code block below will connect this Colab notebook to your Google Drive account. From there, we'll be able to load the dataset you've downloaded to your Google Drive into this notebook.\n",
        "\n",
        "\n",
        "Run the code block and it'll ask you to authenticate via Google. Click yes through everything."
      ],
      "metadata": {
        "id": "cKXg05YBcATI"
      }
    },
    {
      "cell_type": "code",
      "metadata": {
        "id": "kWKOuaFhLgfk"
      },
      "source": [
        "from google.colab import drive\n",
        "drive.mount('/content/drive')"
      ],
      "execution_count": null,
      "outputs": []
    },
    {
      "cell_type": "markdown",
      "source": [
        "## Reading Data From External Files\n",
        "\n",
        "With the basics out of the way, let's pull in the UFO data.\n",
        "\n",
        "Assuming your dataset is downloaded to the root of your Google Drive, the path passed to `pd.read_csv()` below should work just fine."
      ],
      "metadata": {
        "id": "d_2catM9UZbp"
      }
    },
    {
      "cell_type": "code",
      "metadata": {
        "id": "KgXfwYyYL0Ew"
      },
      "source": [
        "ufo_data = pd.read_csv('/content/drive/My Drive/ufo_data.csv')"
      ],
      "execution_count": null,
      "outputs": []
    },
    {
      "cell_type": "markdown",
      "source": [
        "## An Optional Note On Slice Notation\n",
        "If you've never seen colons used to splice ranges of data before in Python, some of the syntax that follows can be a little confusing.\n",
        "\n",
        "In brief, the slice operator `:` works by extracting a subset of a list where the left-hand term is inclusive and the right-hand term is exclusive. So, if we wanted to slice a `ufo_list` into a smaller subset, we'd use `ufo_list[this_is_included:and_this_is_not].` We can also step backward from the end of the list with the `-` negative operator.\n",
        "\n",
        "Learn more about ranges and slicing in the [Python docs](https://docs.python.org/3/tutorial/introduction.html#text) (you'll need to scroll down a little.)\n",
        "\n"
      ],
      "metadata": {
        "id": "9TqvTBDU6nHP"
      }
    },
    {
      "cell_type": "code",
      "source": [
        "# for instance, consider this list\n",
        "list = ['a','b','c','d','e','f']\n",
        "print(list[1:3]) # remember the list is zero indexed!\n",
        "print(list[:4]) # the value after the colon indicates where the new sequence should end..\n",
        "print(list[2:]) # .. while the first indicates where it should start.\n",
        "print(list[:]) # if both terms are missing, *all* items are returned\n",
        "print(list[-4:-1]) # from the Python docs: \"Note that since -0 is the same as 0, negative indices start from -1.\" it's still exclusive, so 'f' is left out.\n",
        "print(list[::-1]) # the optional third parameter indicates a 'step', so the code on this line reverses the element in its entirety"
      ],
      "metadata": {
        "id": "Gx_PZPOY7FKs"
      },
      "execution_count": null,
      "outputs": []
    },
    {
      "cell_type": "markdown",
      "source": [
        "## Locating and Selecting Data with `loc` and `iloc`\n"
      ],
      "metadata": {
        "id": "xN0LjUJ38_Gh"
      }
    },
    {
      "cell_type": "markdown",
      "source": [
        "### `loc` and labels\n",
        "\n",
        "`loc` locates data via its label. By default, rows are usually not labeled, so our first examples will only select columns."
      ],
      "metadata": {
        "id": "HxTY5upDuw8I"
      }
    },
    {
      "cell_type": "code",
      "source": [
        "summaries = ufo_data.loc[:, \"summary\"]\n",
        "summaries.head()"
      ],
      "metadata": {
        "id": "16LTS3YU0A1t"
      },
      "execution_count": null,
      "outputs": []
    },
    {
      "cell_type": "code",
      "source": [
        "label_list = ufo_data.loc[:, [\"summary\",\"shape\",\"duration\"]]\n",
        "label_list.head()"
      ],
      "metadata": {
        "id": "MKOAhfh5xOtm"
      },
      "execution_count": null,
      "outputs": []
    },
    {
      "cell_type": "code",
      "source": [
        "label_range = ufo_data.loc[:, \"city\":\"shape\"]\n",
        "label_range.head()"
      ],
      "metadata": {
        "id": "cUNRYA0ydqpz"
      },
      "execution_count": null,
      "outputs": []
    },
    {
      "cell_type": "markdown",
      "source": [
        "#### An aside on index columns"
      ],
      "metadata": {
        "id": "ZHEAEoqMxH6T"
      }
    },
    {
      "cell_type": "code",
      "source": [
        "# after setting the index column, `loc` will access each row via that column's value\n",
        "col_indexed_data = ufo_data.set_index(\"shape\", inplace=False, drop=True)\n",
        "# now we can select rows using their labels with loc.\n",
        "#fill in the code below to select all rows with the label 'fireball'\n",
        "row_select = col_indexed_data.loc[]\n",
        "print(row_select)\n",
        "\n",
        "# now try printing summaries of all rows labeled \"sphere\"\n"
      ],
      "metadata": {
        "id": "8vf0k5zap-Mu"
      },
      "execution_count": null,
      "outputs": []
    },
    {
      "cell_type": "markdown",
      "source": [
        "### `iloc` and indexing"
      ],
      "metadata": {
        "id": "2_tS2ZZru0s7"
      }
    },
    {
      "cell_type": "code",
      "source": [
        "# how would we obtain the first row's fifth column using iloc? (Remember they're both zero indexed.)\n",
        "ufo_data.iloc[]"
      ],
      "metadata": {
        "id": "e0Fvzz3XyE2d"
      },
      "execution_count": null,
      "outputs": []
    },
    {
      "cell_type": "code",
      "source": [
        "# how would you return all rows and only the latitude and longitude columns?\n",
        "#(they're the last two columns in the DataFrame.)\n",
        "ufo_data.iloc[]"
      ],
      "metadata": {
        "id": "MUyE5Lmv2-zi"
      },
      "execution_count": null,
      "outputs": []
    },
    {
      "cell_type": "code",
      "source": [
        "# can you return only the tenth through fifteenth rows and all columns?\n",
        "ufo_data.iloc[]"
      ],
      "metadata": {
        "id": "3WPFei2Wvv_P"
      },
      "execution_count": null,
      "outputs": []
    },
    {
      "cell_type": "markdown",
      "source": [
        "## Feature Engineering Our Shape Predictor\n",
        "\n",
        "A common ML task is combining or otherwise manipulating multiple features into a single feature, part of a process called 'feature engineering.'\n",
        "\n",
        "Below, observe how we turn the two features 'city' and 'state' into a single feature using basic concatenation."
      ],
      "metadata": {
        "id": "aVLh_MMK9Ge7"
      }
    },
    {
      "cell_type": "code",
      "source": [
        "ufo_data[\"city and state\"] = ufo_data.loc[:,\"city\"] + \", \" + ufo_data.loc[:,\"state\"]\n",
        "ufo_data[\"city and state\"].head()"
      ],
      "metadata": {
        "id": "ydiYlb7Cwewt"
      },
      "execution_count": null,
      "outputs": []
    },
    {
      "cell_type": "markdown",
      "source": [
        "## Preparing Data for Machine Learning"
      ],
      "metadata": {
        "id": "Kkf0Yn0ABThp"
      }
    },
    {
      "cell_type": "code",
      "source": [
        "# make a new dataframe called \"shape_prediction_data\" with three columns in this order:\n",
        "#  \"city and state\"\n",
        "#  \"duration\"\n",
        "#  \"shape\"\n",
        "shape_prediction_data =\n",
        "\n",
        "shape_prediction_data.head()\n",
        "shape_prediction_data.info()"
      ],
      "metadata": {
        "id": "VefaEalZ9yVW"
      },
      "execution_count": null,
      "outputs": []
    },
    {
      "cell_type": "markdown",
      "source": [
        "Separate our `shape_prediction_data` into features (`city and state` and `duration`) and labels (`shape`) and assign them to `X` and `y` respectively."
      ],
      "metadata": {
        "id": "fZ5HZ8a4STY-"
      }
    },
    {
      "cell_type": "code",
      "source": [
        "# assuming \"shape\" is our label and \"city and state\" and \"duration\" are our features,\n",
        "# can you fill in the following two variables?\n",
        "X = shape_prediction_data.iloc['just the x column']\n",
        "y = shape_prediction_data.iloc['just the y column']\n",
        "\n",
        "print(\"feature set:\\n\", X.head())\n",
        "print(\"label:\\n\", y.head())"
      ],
      "metadata": {
        "id": "7kvk0oMzBmvq"
      },
      "execution_count": null,
      "outputs": []
    }
  ]
}