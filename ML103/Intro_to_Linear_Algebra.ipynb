{
  "nbformat": 4,
  "nbformat_minor": 0,
  "metadata": {
    "colab": {
      "name": "Intro to Linear Algebra.ipynb",
      "provenance": [],
      "include_colab_link": true
    },
    "kernelspec": {
      "name": "python3",
      "display_name": "Python 3"
    },
    "language_info": {
      "name": "python"
    }
  },
  "cells": [
    {
      "cell_type": "markdown",
      "metadata": {
        "id": "view-in-github",
        "colab_type": "text"
      },
      "source": [
        "<a href=\"https://colab.research.google.com/github/quanticedu/IntroToML/blob/main/ML103/Intro_to_Linear_Algebra.ipynb\" target=\"_parent\"><img src=\"https://colab.research.google.com/assets/colab-badge.svg\" alt=\"Open In Colab\"/></a>"
      ]
    },
    {
      "cell_type": "markdown",
      "source": [
        "# Intro to NumPy and Linear Algebra"
      ],
      "metadata": {
        "id": "JwIr45w2Hj-D"
      }
    },
    {
      "cell_type": "markdown",
      "source": [
        "## Row Vectors and Column Vectors"
      ],
      "metadata": {
        "id": "t6y5o8bOdThc"
      }
    },
    {
      "cell_type": "code",
      "source": [
        "import numpy as np\n",
        "# while we introduced NumPy arrays as single-bracketed,\n",
        "# double brackets will help us understand the ideas of linear algebra\n",
        "double_bracket_row_vector = np.array([[34, 22, 11]])\n",
        "double_bracket_row_vector"
      ],
      "metadata": {
        "id": "4dyTFMbAH6CD"
      },
      "execution_count": null,
      "outputs": []
    },
    {
      "cell_type": "code",
      "source": [
        "# notice the shape\n",
        "double_bracket_row_vector.shape"
      ],
      "metadata": {
        "id": "inWvVAWFLbJv"
      },
      "execution_count": null,
      "outputs": []
    },
    {
      "cell_type": "code",
      "source": [
        "# we can use this same idea to create column vectors\n",
        "# inside the first pair of brackets, each set of brackets represents a new row\n",
        "# each of the following elements belongs to the same column\n",
        "column_vector = np.array([[1],[2],[3]])\n",
        "column_vector"
      ],
      "metadata": {
        "id": "GAtN4pNzLM8E"
      },
      "execution_count": null,
      "outputs": []
    },
    {
      "cell_type": "code",
      "source": [
        "column_vector.shape"
      ],
      "metadata": {
        "id": "xrHc9ptTLX80"
      },
      "execution_count": null,
      "outputs": []
    },
    {
      "cell_type": "markdown",
      "source": [
        "## Coding a Matrix\n",
        "\n"
      ],
      "metadata": {
        "id": "iTMFGVk_QhaY"
      }
    },
    {
      "cell_type": "code",
      "source": [
        "# to represent matrices in numpy, we also use double brackets\n",
        "matrix = np.array([[2,1],[4,3]])\n",
        "matrix"
      ],
      "metadata": {
        "id": "-VRSzzQDTMSR"
      },
      "execution_count": null,
      "outputs": []
    },
    {
      "cell_type": "code",
      "source": [
        "matrix.shape"
      ],
      "metadata": {
        "id": "HtSPYP3_Ul18"
      },
      "execution_count": null,
      "outputs": []
    },
    {
      "cell_type": "markdown",
      "source": [
        "## Selecting Elements Out of a Matrix"
      ],
      "metadata": {
        "id": "xSffvzEDeoMQ"
      }
    },
    {
      "cell_type": "code",
      "source": [
        "# unlike in our math notation, in numpy the matrices are zero-indexed\n",
        "print(\"first row in the matrix: \", matrix[0])\n",
        "print(\"second row in the matrix: \", matrix[1])\n",
        "print(\"first column in the matrix: \", matrix[:, 0])\n",
        "print(\"second column in the matrix: \", matrix[:, 1])\n",
        "print(\"element in the first row, second column: \", matrix[0,1])\n",
        "print(\"element in second row, second column: \", matrix[1,1])"
      ],
      "metadata": {
        "id": "J7GKTVrkUxyP"
      },
      "execution_count": null,
      "outputs": []
    },
    {
      "cell_type": "markdown",
      "source": [
        "## Adding Incompatible Matrices"
      ],
      "metadata": {
        "id": "WmU0KRFCe1VK"
      }
    },
    {
      "cell_type": "code",
      "source": [
        "# what do you think will happen if we try adding the two matrices below?\n",
        "matrix_one = np.array([[2,1],[4,3]])\n",
        "matrix_two = np.array([[1,2,5], [5,3,2]])\n",
        "\n",
        "# uncomment the line below and run the code block\n",
        "# matrix_one+matrix_two"
      ],
      "metadata": {
        "id": "j-UGJZwuV8do"
      },
      "execution_count": null,
      "outputs": []
    },
    {
      "cell_type": "markdown",
      "source": [
        "# Matrix Multiplication"
      ],
      "metadata": {
        "id": "1LO7bxEdarpA"
      }
    },
    {
      "cell_type": "markdown",
      "source": [
        "## Multiplying Vectors"
      ],
      "metadata": {
        "id": "pmGqmt_zWa_p"
      }
    },
    {
      "cell_type": "markdown",
      "source": [
        "The way we multiply two vectors is almost identical to the way we used the dot product in the first course. The chief difference is that now we'll be paying attention to each vector's shape: we must multiply a row vector with a column vector that has a compatible shape."
      ],
      "metadata": {
        "id": "ecCABzwfKBQm"
      }
    },
    {
      "cell_type": "code",
      "source": [
        "import numpy as np\n",
        "\n",
        "row_vector = np.array([[1, 2, 3]])\n",
        "column_vector = np.array([[4],[-5],[6]])\n",
        "\n",
        "print(row_vector)\n",
        "print(column_vector)"
      ],
      "metadata": {
        "id": "2YBUmRONYkMM"
      },
      "execution_count": null,
      "outputs": []
    },
    {
      "cell_type": "code",
      "source": [
        "product_vector = np.dot(row_vector, column_vector)\n",
        "product_vector"
      ],
      "metadata": {
        "id": "U9MGoJCoK9Ai"
      },
      "execution_count": null,
      "outputs": []
    },
    {
      "cell_type": "markdown",
      "source": [
        "## Multiplying Matrices"
      ],
      "metadata": {
        "id": "B0loWVjkM6YP"
      }
    },
    {
      "cell_type": "code",
      "source": [
        "A = np.array([[3,2,1],[0, -2, 4]])\n",
        "B = np.array([[2,1],[-1,3],[5,4]])\n",
        "print(A)\n",
        "print(B)"
      ],
      "metadata": {
        "id": "nvDLqdVOM_yY"
      },
      "execution_count": null,
      "outputs": []
    },
    {
      "cell_type": "markdown",
      "source": [
        "NumPy uses the `.dot()` method to multiply matrices, too."
      ],
      "metadata": {
        "id": "OM9sWUDtNrIP"
      }
    },
    {
      "cell_type": "code",
      "source": [
        "product_matrix = np.dot(A,B)\n",
        "product_matrix"
      ],
      "metadata": {
        "id": "XN-RzOiZNfYU"
      },
      "execution_count": null,
      "outputs": []
    },
    {
      "cell_type": "code",
      "source": [
        "product_matrix.shape"
      ],
      "metadata": {
        "id": "BoWE6fWSN51b"
      },
      "execution_count": null,
      "outputs": []
    },
    {
      "cell_type": "markdown",
      "source": [
        "## Matrix Compatibility"
      ],
      "metadata": {
        "id": "YqgIdld9QedG"
      }
    },
    {
      "cell_type": "markdown",
      "source": [
        "### First Example"
      ],
      "metadata": {
        "id": "dd324soJYMTe"
      }
    },
    {
      "cell_type": "code",
      "source": [
        "A = np.array([[3,2,3,4],[0,-2,4,8]])\n",
        "B = np.array([[2,1],[-1,3],[4,3],[5,4]])\n",
        "# do you think these matrices are compatible?\n",
        "print(A)\n",
        "print(B)\n",
        "# why not look at their shape?\n",
        "print(A.shape)\n",
        "print(B.shape)"
      ],
      "metadata": {
        "id": "OfVcmoJOQuOK"
      },
      "execution_count": null,
      "outputs": []
    },
    {
      "cell_type": "code",
      "source": [
        "product_matrix = np.dot(A,B)\n",
        "print(product_matrix)\n",
        "print(product_matrix.shape)"
      ],
      "metadata": {
        "id": "JqWth13ORYLd"
      },
      "execution_count": null,
      "outputs": []
    },
    {
      "cell_type": "markdown",
      "source": [
        "### Second Example"
      ],
      "metadata": {
        "id": "ojXYm2eKY1G5"
      }
    },
    {
      "cell_type": "code",
      "source": [
        "# let's try one more example\n",
        "C = np.array([[3,2,3],[0,-2,4]])\n",
        "D = np.array([[2,1],[-1,3],[4,3],[5,4]])\n",
        "# do you think these matrices are compatible?\n",
        "print(C)\n",
        "print(D)\n",
        "# why not look at their shape?\n",
        "print(C.shape)\n",
        "print(D.shape)"
      ],
      "metadata": {
        "id": "tQQuTXYzRsSG"
      },
      "execution_count": null,
      "outputs": []
    },
    {
      "cell_type": "code",
      "source": [
        "# let's take a look at what colab says when we try to multiply them\n",
        "# uncomment all the lines of code below to find out\n",
        "# protip: highlight multiple lines of text and press Ctrl/Cmd + / to comment or uncomment them all in one go.\n",
        "\n",
        "# product_matrix = np.dot(C,D)\n",
        "# print(product_matrix)\n",
        "# print(product_matrix.shape)"
      ],
      "metadata": {
        "id": "O1O2-SLoSBVR"
      },
      "execution_count": null,
      "outputs": []
    },
    {
      "cell_type": "markdown",
      "source": [
        "# Rules and Identity"
      ],
      "metadata": {
        "id": "sIYlPRk18t5E"
      }
    },
    {
      "cell_type": "markdown",
      "source": [
        "### Matrices Are Associative"
      ],
      "metadata": {
        "id": "ETE3fpQMA1Iw"
      }
    },
    {
      "cell_type": "code",
      "source": [
        "import numpy as np\n",
        "A = np.array([[1,2],[4,5]])\n",
        "B = np.array([[2,3],[5,6]])\n",
        "C = np.array([[7,8],[9,10]])\n",
        "\n",
        "product_1 = np.dot(np.dot(A,B),C)\n",
        "print(product_1)\n",
        "product_2 = np.dot(A, np.dot(B,C))\n",
        "print(product_2)"
      ],
      "metadata": {
        "id": "SI-b7iQsA6OX"
      },
      "execution_count": null,
      "outputs": []
    },
    {
      "cell_type": "markdown",
      "source": [
        "### Matrices Are *Not* Commutative"
      ],
      "metadata": {
        "id": "tOEl5BlFB53d"
      }
    },
    {
      "cell_type": "code",
      "source": [
        "D = np.array([[1,2],[3,4],[5,6]])\n",
        "E = np.array([[2,3,4],[5,6,7]])\n",
        "\n",
        "D_times_E = np.dot(D,E)\n",
        "E_times_D = np.dot(E,D)\n",
        "\n",
        "print(D_times_E)\n",
        "print(E_times_D)"
      ],
      "metadata": {
        "id": "YkMDYKgcB9Cn"
      },
      "execution_count": null,
      "outputs": []
    },
    {
      "cell_type": "markdown",
      "source": [
        "### Identity Matrices"
      ],
      "metadata": {
        "id": "KaJkG_ZACw8P"
      }
    },
    {
      "cell_type": "code",
      "source": [
        "# notice these output floats by default\n",
        "np.identity(3)"
      ],
      "metadata": {
        "id": "0lFszM1x8ymD"
      },
      "execution_count": null,
      "outputs": []
    },
    {
      "cell_type": "code",
      "source": [
        "# you can override this by passing the dtype parameter\n",
        "np.identity(3, dtype=int)"
      ],
      "metadata": {
        "id": "qnztiVCX_pD6"
      },
      "execution_count": null,
      "outputs": []
    },
    {
      "cell_type": "markdown",
      "source": [
        "### Multiplying Identity Matrices"
      ],
      "metadata": {
        "id": "9ckbFMfCC3IJ"
      }
    },
    {
      "cell_type": "code",
      "source": [
        "import numpy as np\n",
        "F = np.array([[1,2,3,4],[5,4,3,2]])\n",
        "F"
      ],
      "metadata": {
        "id": "KUYb9d71Dcd5"
      },
      "execution_count": null,
      "outputs": []
    },
    {
      "cell_type": "code",
      "source": [
        "F_I = np.identity(4, dtype=int)\n",
        "F_times_I = np.dot(F,F_I)\n",
        "\n",
        "print(F_times_I)"
      ],
      "metadata": {
        "id": "1mx_z68MYUqS"
      },
      "execution_count": null,
      "outputs": []
    },
    {
      "cell_type": "code",
      "source": [
        "G = np.array([[2,3], [3,2],[5,4]])\n",
        "G"
      ],
      "metadata": {
        "id": "dFdQUPXIGjEv"
      },
      "execution_count": null,
      "outputs": []
    },
    {
      "cell_type": "code",
      "source": [
        "G_I = np.identity(3, dtype=int)\n",
        "\n",
        "I_times_G = np.dot(G_I,G)\n",
        "print(I_times_G)"
      ],
      "metadata": {
        "id": "Vz13qkVXaR5b"
      },
      "execution_count": null,
      "outputs": []
    },
    {
      "cell_type": "markdown",
      "source": [
        "# Inverses and Transposition"
      ],
      "metadata": {
        "id": "EN0xb4NPHuNW"
      }
    },
    {
      "cell_type": "markdown",
      "source": [
        "## Obtaining the Matrix Inverse"
      ],
      "metadata": {
        "id": "cJ4bwYx1c6uO"
      }
    },
    {
      "cell_type": "code",
      "source": [
        "import numpy as np\n",
        "\n",
        "X = np.array([[1, 8, 3], [1, -5, -9], [1, 3, 2]])\n",
        "X"
      ],
      "metadata": {
        "id": "MKJSWbfxH0dI"
      },
      "execution_count": null,
      "outputs": []
    },
    {
      "cell_type": "code",
      "source": [
        "Xinv = np.linalg.inv(X)\n",
        "Xinv"
      ],
      "metadata": {
        "id": "xw45-o_CW3-y"
      },
      "execution_count": null,
      "outputs": []
    },
    {
      "cell_type": "markdown",
      "source": [
        "Now let's confirm that $X^{-1} \\cdot X$ returns $I$."
      ],
      "metadata": {
        "id": "ZFJ0oPvwcOLw"
      }
    },
    {
      "cell_type": "code",
      "source": [
        "np.dot(Xinv, X)\n",
        "# because NumPy is forced to eventually round up in its inverse calculations, we may get very small values where there should be zeroes.\n",
        "# for example, 4.44e-16 is 4.44 X 10^(-16).\n",
        "# for our purposes, any number times 10 raised to ^-16 can be treated as zero!"
      ],
      "metadata": {
        "id": "MBeB1RemaYU-"
      },
      "execution_count": null,
      "outputs": []
    },
    {
      "cell_type": "markdown",
      "source": [
        "## Singular and Non-Square Matrices"
      ],
      "metadata": {
        "id": "-Mtx438Mi-0K"
      }
    },
    {
      "cell_type": "code",
      "source": [
        "singular_X = np.array([[-6, 2], [-12, 4]])\n",
        "singular_X"
      ],
      "metadata": {
        "id": "cMM-H7pZjCiV"
      },
      "execution_count": null,
      "outputs": []
    },
    {
      "cell_type": "code",
      "source": [
        "# uncomment the line below to see the error message for a singular matrix\n",
        "# np.linalg.inv(singular_X)"
      ],
      "metadata": {
        "id": "Q65hhmn5jWNo"
      },
      "execution_count": null,
      "outputs": []
    },
    {
      "cell_type": "code",
      "source": [
        "rectangular_X = np.array([[4,9],[9,8],[4,1]])\n",
        "\n",
        "# uncomment the line below to see the error message for non-square matrices\n",
        "# np.linalg.inv(rectangular_X)"
      ],
      "metadata": {
        "id": "D-i4W2DQkxPp"
      },
      "execution_count": null,
      "outputs": []
    },
    {
      "cell_type": "markdown",
      "source": [
        "## Transposing Matrices"
      ],
      "metadata": {
        "id": "Fkuj2wsc33kT"
      }
    },
    {
      "cell_type": "code",
      "source": [
        "A = np.array([[3,4],[5,9],[1,8]])\n",
        "A"
      ],
      "metadata": {
        "id": "l0pslTIs5Hb7"
      },
      "execution_count": null,
      "outputs": []
    },
    {
      "cell_type": "code",
      "source": [
        "A_T = A.T\n",
        "A_T"
      ],
      "metadata": {
        "id": "4fGEchS65O7i"
      },
      "execution_count": null,
      "outputs": []
    },
    {
      "cell_type": "code",
      "source": [
        "print(\"The shape of A: \", A.shape)\n",
        "print(\"The shape of A_T: \",A_T.shape)"
      ],
      "metadata": {
        "id": "oYc72NWB5oGg"
      },
      "execution_count": null,
      "outputs": []
    },
    {
      "cell_type": "markdown",
      "source": [
        "## Isolating $w$"
      ],
      "metadata": {
        "id": "aw-oBoMKczxG"
      }
    },
    {
      "cell_type": "markdown",
      "source": [
        "To isolate $w$ in $Xw = y$, we'd perform the following calculations:\n",
        "\n",
        "$$Xw = y$$\n",
        "$$X^{-1}Xw = X^{-1}y$$\n",
        "$$Iw = X^{-1}y$$\n",
        "$$w = X^{-1}y$$\n",
        "\n"
      ],
      "metadata": {
        "id": "eQ9PmbxUdO7s"
      }
    },
    {
      "cell_type": "code",
      "source": [
        "X = np.array([[1, 8, 3], [1, -5, -9], [1, 3, 2]])\n",
        "y = np.array([[2], [7], [8]])"
      ],
      "metadata": {
        "id": "IbZFaRT8dw7h"
      },
      "execution_count": null,
      "outputs": []
    },
    {
      "cell_type": "markdown",
      "source": [
        "If we know both $X$ and $y$, seen above, we can solve for $w$ using the following code."
      ],
      "metadata": {
        "id": "qXhAbepbkI_q"
      }
    },
    {
      "cell_type": "code",
      "source": [
        "w = #what do we write here to isolate w?\n",
        "w"
      ],
      "metadata": {
        "id": "nxpG3hCbajqw"
      },
      "execution_count": null,
      "outputs": []
    },
    {
      "cell_type": "markdown",
      "source": [
        "Now let's confirm $Xw$ gets us $y$."
      ],
      "metadata": {
        "id": "Bm-D3F8gd-Rk"
      }
    },
    {
      "cell_type": "code",
      "source": [
        "Xw = np.dot(X,w)\n",
        "print(\"Xw:\")\n",
        "print(Xw)\n",
        "print(\"y:\")\n",
        "print(y)"
      ],
      "metadata": {
        "id": "ApwW5zg7d81o"
      },
      "execution_count": null,
      "outputs": []
    },
    {
      "cell_type": "markdown",
      "source": [
        "Neat, right? This is just one example of the many useful techniques you can apply, now that you've got a grasp on the basics of linear algebra."
      ],
      "metadata": {
        "id": "IJ_E8qPsknNq"
      }
    },
    {
      "cell_type": "code",
      "source": [
        "import numpy as np\n",
        "x = np.array([[1] ,[4]])\n",
        "w = np.array([[4],[3]])\n",
        "np.dot(w.T,x)"
      ],
      "metadata": {
        "id": "Yzfoa2C9-_uD"
      },
      "execution_count": null,
      "outputs": []
    }
  ]
}