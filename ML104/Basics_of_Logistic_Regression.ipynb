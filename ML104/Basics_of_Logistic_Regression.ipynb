{
  "nbformat": 4,
  "nbformat_minor": 0,
  "metadata": {
    "colab": {
      "provenance": [],
      "include_colab_link": true
    },
    "kernelspec": {
      "name": "python3",
      "display_name": "Python 3"
    },
    "language_info": {
      "name": "python"
    }
  },
  "cells": [
    {
      "cell_type": "markdown",
      "metadata": {
        "id": "view-in-github",
        "colab_type": "text"
      },
      "source": [
        "<a href=\"https://colab.research.google.com/github/quanticedu/IntroToML/blob/main/ML104/Basics_of_Logistic_Regression.ipynb\" target=\"_parent\"><img src=\"https://colab.research.google.com/assets/colab-badge.svg\" alt=\"Open In Colab\"/></a>"
      ]
    },
    {
      "cell_type": "markdown",
      "source": [
        "# Plotting the sigmoid function\n"
      ],
      "metadata": {
        "id": "hhrMi8eyVL-Q"
      }
    },
    {
      "cell_type": "markdown",
      "source": [
        "## $y = \\frac{1}{1 + e^{-\\mathbf w^\\text T \\mathbf x}}$"
      ],
      "metadata": {
        "id": "4k4tCaYKt_mL"
      }
    },
    {
      "cell_type": "code",
      "execution_count": null,
      "metadata": {
        "id": "770FyP5QN65A"
      },
      "outputs": [],
      "source": [
        "import matplotlib.pyplot as plt\n",
        "import numpy as np\n",
        "\n",
        "x_data = np.linspace(-10,10,100) # remember what this does?\n",
        "y_data = 1 / (1 + (np.exp(-(x_data))))\n",
        "plt.title(\"Graphing a Simple Sigmoid Curve\")\n",
        "plt.xlabel('model input')\n",
        "plt.ylabel('model output')\n",
        "decision_boundary = plt.axhline(y = 0.5, color=\"black\")\n",
        "decision_boundary.set_dashes([10,5])\n",
        "plt.plot(x_data, y_data)"
      ]
    },
    {
      "cell_type": "code",
      "source": [
        "parameter_vector = np.array([[3.322],[1.123]])\n",
        "feature_vector = np.array([[1],[0.342]])\n",
        "prediction = 1 / (1 + np.exp(\"what should go here?\"))\n",
        "prediction"
      ],
      "metadata": {
        "id": "CN74WHSkZco0"
      },
      "execution_count": null,
      "outputs": []
    },
    {
      "cell_type": "markdown",
      "source": [
        "# Using the log loss cost function\n"
      ],
      "metadata": {
        "id": "QBNjffe6OcQP"
      }
    },
    {
      "cell_type": "markdown",
      "source": [
        "$\\frac{1}{m}\\sum_{i=1}^m(-y_i\\log(f(x_i)) - ((1-y_i)\\log(1-f(x_i))))$"
      ],
      "metadata": {
        "id": "4DFolwHgt15B"
      }
    },
    {
      "cell_type": "code",
      "source": [
        "import numpy as np\n",
        "def handrolled_log_loss(y, f_x, m):\n",
        "    \"\"\" Returns the cost of a model using log loss.\n",
        "\n",
        "    Args:\n",
        "        y: a NumPy array of the dataset's labels\n",
        "        f_x: a NumPy array of the model's predictions\n",
        "        m: the number of examples in the training set\n",
        "\n",
        "    Returns:\n",
        "        The log loss as a float.\n",
        "\n",
        "    Raises:\n",
        "        TypeError: missing required argument\n",
        "    \"\"\"\n",
        "    return (1 / PARAM_HERE) * (np.sum((-PARAM_HERE * np.log(PARAM_HERE)) - ((1-PARAM_HERE) * np.log(1-PARAM_HERE))))"
      ],
      "metadata": {
        "id": "R9MzbNNEcJgO"
      },
      "execution_count": null,
      "outputs": []
    },
    {
      "cell_type": "markdown",
      "source": [
        "Imagine Clayton has collected the two vectors below. The first, `labels`, corresponds to the $y$-values in the equation. The second, `predictions_v1`, contains the predictions of the model in its first iteration. Take a look yourself to see how accurate the predictions are before computing the cost."
      ],
      "metadata": {
        "id": "iLdtsZnx6F0F"
      }
    },
    {
      "cell_type": "code",
      "source": [
        "labels = np.array([1,0,0,1])\n",
        "predictions_v1 = np.array([0.223,0.15,0.87,0.99])\n",
        "m = labels.shape[0]\n",
        "\n",
        "cost = # how do we obtain the cost of predictions_v1?\n",
        "cost"
      ],
      "metadata": {
        "id": "_RnZ5ah55uRb"
      },
      "execution_count": null,
      "outputs": []
    },
    {
      "cell_type": "markdown",
      "source": [
        "On another iteration, Clayton gets some more predictions.\n",
        "\n",
        "\"Alright, I collected some better predictions,\" Clayton says. \"Let's see if the cost is lower.\""
      ],
      "metadata": {
        "id": "8BafoFIO91iG"
      }
    },
    {
      "cell_type": "code",
      "source": [
        "predictions_v2 = np.array([0.97,0.01,0.11,0.99])\n",
        "\n",
        "new_cost = # obtain the cost of predictions_v2 here\n",
        "new_cost"
      ],
      "metadata": {
        "id": "w6gQI-xh9_Ur"
      },
      "execution_count": null,
      "outputs": []
    },
    {
      "cell_type": "markdown",
      "source": [
        "We can do the same thing with SciKit Learn's `log_loss` method."
      ],
      "metadata": {
        "id": "4o-CQVVF-S95"
      }
    },
    {
      "cell_type": "code",
      "source": [
        "from sklearn.metrics import log_loss\n",
        "\n",
        "sk_cost = log_loss(labels,predictions_v2) # note it finds m for us automatically\n",
        "sk_cost"
      ],
      "metadata": {
        "id": "PT0fJIZOOfw3"
      },
      "execution_count": null,
      "outputs": []
    }
  ]
}