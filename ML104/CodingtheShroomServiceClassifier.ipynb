{
  "cells": [
    {
      "cell_type": "markdown",
      "metadata": {
        "id": "view-in-github",
        "colab_type": "text"
      },
      "source": [
        "<a href=\"https://colab.research.google.com/github/quanticedu/IntroToML/blob/main/ML104/CodingtheShroomServiceClassifier.ipynb\" target=\"_parent\"><img src=\"https://colab.research.google.com/assets/colab-badge.svg\" alt=\"Open In Colab\"/></a>"
      ]
    },
    {
      "cell_type": "markdown",
      "metadata": {
        "id": "17f47AIE1eex"
      },
      "source": [
        "# Setting up our environment"
      ]
    },
    {
      "cell_type": "markdown",
      "source": [
        "In the next two cells, we do things we're plenty familiar with by now: importing the needed libraries and mounting Google Drive."
      ],
      "metadata": {
        "id": "IRHmJvj6wlCl"
      }
    },
    {
      "cell_type": "code",
      "execution_count": null,
      "metadata": {
        "id": "Mn16hGs2lch4"
      },
      "outputs": [],
      "source": [
        "import numpy as np\n",
        "import pandas as pd\n",
        "from matplotlib import pyplot as plt\n",
        "from sklearn.model_selection import train_test_split"
      ]
    },
    {
      "cell_type": "code",
      "execution_count": null,
      "metadata": {
        "id": "F6vj6UiOMwwU"
      },
      "outputs": [],
      "source": [
        "from google.colab import drive\n",
        "from google.colab import files\n",
        "drive.mount('/content/drive')"
      ]
    },
    {
      "cell_type": "markdown",
      "source": [
        "Now we're ready to load in the data and take a look."
      ],
      "metadata": {
        "id": "vzTYCNS_xCYp"
      }
    },
    {
      "cell_type": "code",
      "execution_count": null,
      "metadata": {
        "id": "l8Znp4nzlofR"
      },
      "outputs": [],
      "source": [
        "file_string = \"/content/drive/My Drive/mushroom_data.csv\"\n",
        "data = \"what goes here?\""
      ]
    },
    {
      "cell_type": "markdown",
      "metadata": {
        "id": "L9ZtdntQryd3"
      },
      "source": [
        "# Data Exploration"
      ]
    },
    {
      "cell_type": "code",
      "execution_count": null,
      "metadata": {
        "id": "R6hOomb_lorh"
      },
      "outputs": [],
      "source": [
        "data.describe()"
      ]
    },
    {
      "cell_type": "code",
      "source": [
        "data.info()"
      ],
      "metadata": {
        "id": "AONEBZU2aV0F"
      },
      "execution_count": null,
      "outputs": []
    },
    {
      "cell_type": "code",
      "execution_count": null,
      "metadata": {
        "id": "kNDtwm4ZlouL"
      },
      "outputs": [],
      "source": [
        "# Null values check\n",
        "data.isna().sum()"
      ]
    },
    {
      "cell_type": "code",
      "execution_count": null,
      "metadata": {
        "id": "CT3scGz5sScT"
      },
      "outputs": [],
      "source": [
        "label = data.loc[:, 'class']\n",
        "label.unique()"
      ]
    },
    {
      "cell_type": "markdown",
      "metadata": {
        "id": "yW2r-NkpszL5"
      },
      "source": [
        "# Preprocessing"
      ]
    },
    {
      "cell_type": "code",
      "execution_count": null,
      "metadata": {
        "id": "sG9ySHd6sXHJ"
      },
      "outputs": [],
      "source": [
        "data_to_encode = data.drop(columns=['what should go here?'])\n",
        "data_to_encode"
      ]
    },
    {
      "cell_type": "code",
      "execution_count": null,
      "metadata": {
        "id": "Wj8QaG4N3EXF"
      },
      "outputs": [],
      "source": [
        "X = \"how do we encode this data?\"\n",
        "X.head()"
      ]
    },
    {
      "cell_type": "code",
      "execution_count": null,
      "metadata": {
        "id": "oBIS92KGyiSz"
      },
      "outputs": [],
      "source": [
        "from sklearn.preprocessing import LabelEncoder\n",
        "encoder = # instantiate the class here\n",
        "y = encoder.fit_transform(\"what should go here?\")\n",
        "y"
      ]
    },
    {
      "cell_type": "code",
      "execution_count": null,
      "metadata": {
        "id": "OGh1zOn2vVrZ"
      },
      "outputs": [],
      "source": [
        "X_train, X_test, y_train, y_test = train_test_split(X,y,test_size=\"what goes here?\", random_state=\"what goes here?\")"
      ]
    },
    {
      "cell_type": "code",
      "execution_count": null,
      "metadata": {
        "id": "G8n8jLy9vffb"
      },
      "outputs": [],
      "source": [
        "# Training set contains 70% of original data\n",
        "print(X_train.shape)\n",
        "print(y_train.shape)\n",
        "\n",
        "# Test set contains 30% of original data\n",
        "print(X_test.shape)\n",
        "print(y_test.shape)"
      ]
    },
    {
      "cell_type": "markdown",
      "metadata": {
        "id": "UTppJ9tUvQZu"
      },
      "source": [
        "# Training"
      ]
    },
    {
      "cell_type": "code",
      "execution_count": null,
      "metadata": {
        "id": "OzVj5NrmxCj-"
      },
      "outputs": [],
      "source": [
        "from sklearn.linear_model import LogisticRegression\n",
        "log_reg_model = LogisticRegression(random_state=13)\n",
        "\n",
        "X_train = X_train.values\n",
        "log_reg_model.fit(\"what should go here?\")"
      ]
    },
    {
      "cell_type": "code",
      "source": [
        "print(log_reg_model.classes_)\n",
        "print(log_reg_model.coef_)\n",
        "print(log_reg_model.intercept_)\n",
        "print(log_reg_model.n_features_in_)"
      ],
      "metadata": {
        "id": "2xvw1EQFMUlg"
      },
      "execution_count": null,
      "outputs": []
    },
    {
      "cell_type": "code",
      "source": [
        "example = X_test.iloc[\"what goes here?\"]\n",
        "w = log_reg_model.coef_\n",
        "b = log_reg_model.intercept_\n",
        "manual_prediction = 1 / (1 + np.exp(-(np.dot('what goes here?') + 'what goes here?')))\n",
        "manual_prediction"
      ],
      "metadata": {
        "id": "wOSObv2OiAYM"
      },
      "execution_count": null,
      "outputs": []
    },
    {
      "cell_type": "code",
      "source": [
        "log_reg_model.predict_proba([example])"
      ],
      "metadata": {
        "id": "kSijriY0tLAy"
      },
      "execution_count": null,
      "outputs": []
    },
    {
      "cell_type": "code",
      "source": [
        "log_reg_model.predict([example])"
      ],
      "metadata": {
        "id": "5d6KNGEJ24-U"
      },
      "execution_count": null,
      "outputs": []
    },
    {
      "cell_type": "markdown",
      "metadata": {
        "id": "1GVM2R45ulRx"
      },
      "source": [
        "# Testing"
      ]
    },
    {
      "cell_type": "code",
      "execution_count": null,
      "metadata": {
        "id": "xSA0PomZwfyo"
      },
      "outputs": [],
      "source": [
        "y_pred = \"fill these in on your own\"\n",
        "y_proba = \"fill these in on your own\"\n",
        "print(y_pred)\n",
        "print(y_proba)"
      ]
    },
    {
      "cell_type": "code",
      "execution_count": null,
      "metadata": {
        "id": "Rt8OPYxdwi9B"
      },
      "outputs": [],
      "source": [
        "from sklearn.metrics import accuracy_score\n",
        "total_num_test_records = \"how do we get this?\"\n",
        "num_correct = accuracy_score(y_test, y_pred, normalize=False)\n",
        "print(\"and what goes here?\")"
      ]
    },
    {
      "cell_type": "code",
      "source": [
        "log_reg_model # what method goes here?"
      ],
      "metadata": {
        "id": "QH3ny7GI_WRb"
      },
      "execution_count": null,
      "outputs": []
    },
    {
      "cell_type": "markdown",
      "metadata": {
        "id": "QZtrSBO3uZUV"
      },
      "source": [
        "# Deployment\n",
        "Now that we know the model performs well, let's simulate how we might 'deploy' the model in a production-like environment. In this case, we'll make a small, simple function that Clayton's robot can use to classify foraged mushrooms in the field.  \n",
        "\n",
        "If all goes well, Shroom Service will have a killer app on their hands!\n"
      ]
    },
    {
      "cell_type": "code",
      "execution_count": null,
      "metadata": {
        "id": "QO5BW4qMQFD2"
      },
      "outputs": [],
      "source": [
        "def Fungolyzer9000(observations):\n",
        "  cols = X.columns.tolist()\n",
        "  df_obs = pd.DataFrame([observations])\n",
        "  encoded_observation = pd.get_dummies(df_obs).reindex(columns=cols).fillna(0).values\n",
        "  # remember poisonous is 1 and edible is 0\n",
        "  result = log_reg_model.predict_proba(encoded_observation)[0][1] # first row, second column of result array is the poisonous probabilty\n",
        "  return f\"Probability this mushroom is poisonous is {round(result * 100, 3)}%.\""
      ]
    },
    {
      "cell_type": "code",
      "execution_count": null,
      "metadata": {
        "id": "cVjkE2_ebbrT"
      },
      "outputs": [],
      "source": [
        "mystery_mushroom_1 = {\"cap-shape\": \"convex\", \"cap-surface\": \"smooth\", \"cap-color\": \"brown\", \"bruises\": \"bruises\", \"gill-color\": \"black\", \"stalk-shape\": \"enlarging\", \"stalk-color-above-ring\": \"white\", \"stalk-color-below-ring\": \"white\", \"veil-color\": \"white\", \"ring-number\": \"one\", \"ring-type\": \"pendant\", \"spore-print-color\": \"black\", \"population\": \"scattered\", \"habitat\": \"urban\"}\n",
        "\n",
        "answer = Fungolyzer9000(mystery_mushroom_1)\n",
        "answer"
      ]
    },
    {
      "cell_type": "code",
      "execution_count": null,
      "metadata": {
        "id": "ailbhaM2hR_K"
      },
      "outputs": [],
      "source": [
        "mystery_mushroom_2 = {\"cap-shape\": \"bell\", \"cap-surface\": \"smooth\", \"cap-color\": \"white\", \"bruises\": \"bruises\", \"gill-color\": \"brown\", \"stalk-shape\": \"enlarging\", \"stalk-color-above-ring\": \"white\", \"stalk-color-below-ring\": \"white\", \"veil-color\": \"white\", \"ring-number\": \"one\", \"ring-type\": \"pendant\", \"spore-print-color\": \"brown\", \"population\": \"numerous\", \"habitat\": \"meadows\"}\n",
        "\n",
        "answer = Fungolyzer9000(mystery_mushroom_2)\n",
        "answer"
      ]
    },
    {
      "cell_type": "code",
      "execution_count": null,
      "metadata": {
        "id": "lPeBD-8UjBqc"
      },
      "outputs": [],
      "source": [
        "mystery_mushroom_3 = {\"cap-shape\": \"convex\", \"cap-surface\": \"scaly\", \"cap-color\": \"brown\", \"bruises\": \"bruises\", \"gill-color\": \"black\", \"stalk-shape\": \"enlarging\", \"stalk-color-above-ring\": \"white\", \"stalk-color-below-ring\": \"white\", \"veil-color\": \"white\", \"ring-number\": \"one\", \"ring-type\": \"pendant\", \"spore-print-color\": \"black\", \"population\": \"scattered\", \"habitat\": \"urban\"}\n",
        "\n",
        "answer = Fungolyzer9000(mystery_mushroom_3)\n",
        "answer"
      ]
    }
  ],
  "metadata": {
    "colab": {
      "provenance": [],
      "include_colab_link": true
    },
    "kernelspec": {
      "display_name": "Python 3",
      "name": "python3"
    },
    "language_info": {
      "name": "python"
    }
  },
  "nbformat": 4,
  "nbformat_minor": 0
}