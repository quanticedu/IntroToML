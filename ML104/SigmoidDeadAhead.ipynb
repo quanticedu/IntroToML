{
  "nbformat": 4,
  "nbformat_minor": 0,
  "metadata": {
    "colab": {
      "provenance": [],
      "include_colab_link": true
    },
    "kernelspec": {
      "name": "python3",
      "display_name": "Python 3"
    },
    "language_info": {
      "name": "python"
    }
  },
  "cells": [
    {
      "cell_type": "markdown",
      "metadata": {
        "id": "view-in-github",
        "colab_type": "text"
      },
      "source": [
        "<a href=\"https://colab.research.google.com/github/quanticedu/IntroToML/blob/main/ML104/SigmoidDeadAhead.ipynb\" target=\"_parent\"><img src=\"https://colab.research.google.com/assets/colab-badge.svg\" alt=\"Open In Colab\"/></a>"
      ]
    },
    {
      "cell_type": "markdown",
      "source": [
        "## Initializing"
      ],
      "metadata": {
        "id": "jFMrN7WXlnZI"
      }
    },
    {
      "cell_type": "code",
      "execution_count": null,
      "metadata": {
        "id": "OCAFZmQaOj4Z"
      },
      "outputs": [],
      "source": [
        "import numpy as np\n",
        "import pandas as pd\n",
        "from sklearn.model_selection import train_test_split\n",
        "\n",
        "from google.colab import drive\n",
        "drive.mount('/content/drive')"
      ]
    },
    {
      "cell_type": "code",
      "source": [
        "file_string = \"/content/drive/My Drive/goodtitanic.csv\"\n",
        "data = pd.read_csv(file_string)\n",
        "data"
      ],
      "metadata": {
        "id": "k2Iw-shbRspC"
      },
      "execution_count": null,
      "outputs": []
    },
    {
      "cell_type": "markdown",
      "source": [
        "## Exploration"
      ],
      "metadata": {
        "id": "gZ8qk0fylqnt"
      }
    },
    {
      "cell_type": "markdown",
      "source": [
        "###Key to columns:\n",
        "\n",
        "`pclass`: passenger class (1-3)\n",
        "\n",
        "`sibsp`: number of siblings or spouses aboard\n",
        "\n",
        "`parch`: number of parents or children aboard\n",
        "\n",
        "`fare`: passenger fare\n",
        "\n",
        "`embarked`:  port of embarkation (C = Cherbourg; Q = Queenstown; S = Southampton)\n",
        "\n",
        "\n"
      ],
      "metadata": {
        "id": "sgqEOW7azdfB"
      }
    },
    {
      "cell_type": "code",
      "source": [
        "data.describe(include='all')"
      ],
      "metadata": {
        "id": "_YoRi3hdtOmK"
      },
      "execution_count": null,
      "outputs": []
    },
    {
      "cell_type": "code",
      "source": [
        "data.info()"
      ],
      "metadata": {
        "id": "4s-UZnAjf7vD"
      },
      "execution_count": null,
      "outputs": []
    },
    {
      "cell_type": "markdown",
      "source": [
        "## Preprocessing"
      ],
      "metadata": {
        "id": "eKZtSULP1_Yp"
      }
    },
    {
      "cell_type": "code",
      "source": [
        "data.isnull().sum()"
      ],
      "metadata": {
        "id": "U89-bwC3hyPu"
      },
      "execution_count": null,
      "outputs": []
    },
    {
      "cell_type": "code",
      "source": [
        "#Remove samples (rows) if NaN values are present.\n",
        "data = data.dropna(axis=0) # axis=0 specifies we're operating on rows\n",
        "print(f\"The dataset's shape without NaN values: {data.shape}\")"
      ],
      "metadata": {
        "id": "nyvYvL5JzuWa"
      },
      "execution_count": null,
      "outputs": []
    },
    {
      "cell_type": "code",
      "source": [
        "data = pd.what_goes_here?(data)\n",
        "data = data.drop(columns=['sex_male']) # all information is already included in sex_female, so there's no need to keep this feature\n",
        "data.head()"
      ],
      "metadata": {
        "id": "_WJdCanA1_EF"
      },
      "execution_count": null,
      "outputs": []
    },
    {
      "cell_type": "code",
      "source": [
        "# first split x and y\n",
        "X = data.drop(label_here, axis=1)\n",
        "y = data.loc[:, label_here]"
      ],
      "metadata": {
        "id": "LndF8tMD5AbJ"
      },
      "execution_count": null,
      "outputs": []
    },
    {
      "cell_type": "code",
      "source": [
        "X_train, X_test, y_train, y_test = train_test_split(X,y,test_size=0.3,random_state=42)\n",
        "print(f\"X train length: {len(X_train)}, Y train length: {len(y_train)}\")\n",
        "print(f\"X test length: {len(X_test)}, Y test length {len(y_test)}\")"
      ],
      "metadata": {
        "id": "wqBUf0y3st19"
      },
      "execution_count": null,
      "outputs": []
    },
    {
      "cell_type": "markdown",
      "source": [
        "## Training"
      ],
      "metadata": {
        "id": "RZn_tjw5ljh6"
      }
    },
    {
      "cell_type": "code",
      "source": [
        "from sklearn.linear_model import LogisticRegression\n",
        "log_reg_model = LogisticRegression(max_iter=500)\n",
        "log_reg_model.fit(\"what goes here?\")"
      ],
      "metadata": {
        "id": "KttDPi_5uRHg"
      },
      "execution_count": null,
      "outputs": []
    },
    {
      "cell_type": "markdown",
      "source": [
        "## Testing"
      ],
      "metadata": {
        "id": "HYAqJAa2y22c"
      }
    },
    {
      "cell_type": "code",
      "source": [
        "log_reg_model.score(X_test, y_test)"
      ],
      "metadata": {
        "id": "kEevmWO9WITf"
      },
      "execution_count": null,
      "outputs": []
    },
    {
      "cell_type": "markdown",
      "source": [
        "## Deployment"
      ],
      "metadata": {
        "id": "-OMpiEvsOWKL"
      }
    },
    {
      "cell_type": "code",
      "source": [
        "leo = pd.DataFrame({\"pclass\": [3.0], \"age\": [23.0000], \"sibsp\": [0.0],\n",
        "                    \"parch\": [0.0], \"sex_female\": [0.0],\n",
        "                    \"embarked_C\":[1], \"embarked_Q\": [0], \"embarked_S\": [0]})\n",
        "kate = pd.DataFrame({\"pclass\": [1.0], \"age\": [22.0000], \"sibsp\": [1.0],\n",
        "                     \"parch\": [1.0], \"sex_female\": [1.0],\n",
        "                     \"embarked_C\":[0], \"embarked_Q\": [1], \"embarked_S\": [0]})\n",
        "\n",
        "leos_fate = \"what goes here?\"\n",
        "kates_fate = \"what goes here?\""
      ],
      "metadata": {
        "id": "VgXkxZnuOVrh"
      },
      "execution_count": null,
      "outputs": []
    },
    {
      "cell_type": "code",
      "source": [
        "print(leos_fate)"
      ],
      "metadata": {
        "id": "d3W28hITb31s"
      },
      "execution_count": null,
      "outputs": []
    },
    {
      "cell_type": "code",
      "source": [
        "print(kates_fate)"
      ],
      "metadata": {
        "id": "TSf6OHd9b7hn"
      },
      "execution_count": null,
      "outputs": []
    }
  ]
}