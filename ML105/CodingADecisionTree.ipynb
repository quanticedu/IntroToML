{
  "nbformat": 4,
  "nbformat_minor": 0,
  "metadata": {
    "colab": {
      "provenance": [],
      "include_colab_link": true
    },
    "kernelspec": {
      "name": "python3",
      "display_name": "Python 3"
    },
    "language_info": {
      "name": "python"
    }
  },
  "cells": [
    {
      "cell_type": "markdown",
      "metadata": {
        "id": "view-in-github",
        "colab_type": "text"
      },
      "source": [
        "<a href=\"https://colab.research.google.com/github/quanticedu/IntroToML/blob/main/ML105/CodingADecisionTree.ipynb\" target=\"_parent\"><img src=\"https://colab.research.google.com/assets/colab-badge.svg\" alt=\"Open In Colab\"/></a>"
      ]
    },
    {
      "cell_type": "code",
      "execution_count": null,
      "metadata": {
        "id": "5T0LCDMYlN0j"
      },
      "outputs": [],
      "source": [
        "import pandas as pd\n",
        "import matplotlib.pyplot as plt\n",
        "from sklearn import datasets\n",
        "from sklearn import tree\n",
        "from sklearn.model_selection import train_test_split"
      ]
    },
    {
      "cell_type": "markdown",
      "source": [
        "## Importing and Formatting"
      ],
      "metadata": {
        "id": "mSM9lcvUZRH0"
      }
    },
    {
      "cell_type": "code",
      "source": [
        "# We load the dataset in the \"iris\" variable.\n",
        "iris = datasets.load_iris()\n",
        "print(f\"Dataset size {iris.data.shape}\")\n",
        "print(f\"Label categories: {iris.target_names}\")\n",
        "print(f\"Column (feature) names: {iris.feature_names}\")"
      ],
      "metadata": {
        "id": "BYPGHVaJ0KEH"
      },
      "execution_count": null,
      "outputs": []
    },
    {
      "cell_type": "markdown",
      "source": [
        "Because SciKit stores the iris dataset as a NumPy array, it lacks the formatting we've grown accustomed to. The following code formats the data with column names and row numbers for added readability. You don't need to worry about how this code works, though feel free to look through it and follow what it's doing."
      ],
      "metadata": {
        "id": "x2kAKvjkU5cl"
      }
    },
    {
      "cell_type": "code",
      "source": [
        "# We store the features in a dataframe.\n",
        "features = pd.DataFrame(iris.data, columns = iris.feature_names)\n",
        "# We arrange the target in a unique array of type series.\n",
        "target = pd.Series(iris.target, name='species').map(dict(zip(range(3), iris.target_names)))\n",
        "# Concatenating in dataframe\n",
        "data = pd.concat([target, features], axis=1)\n",
        "data"
      ],
      "metadata": {
        "id": "BQqSK1pJVQby"
      },
      "execution_count": null,
      "outputs": []
    },
    {
      "cell_type": "markdown",
      "source": [
        "## Data Exploration"
      ],
      "metadata": {
        "id": "kuKZQgAwZU9G"
      }
    },
    {
      "cell_type": "code",
      "source": [
        "data.describe()"
      ],
      "metadata": {
        "id": "61eZazZiZWm0"
      },
      "execution_count": null,
      "outputs": []
    },
    {
      "cell_type": "code",
      "source": [
        "data.isnull().sum()"
      ],
      "metadata": {
        "id": "7SFG4D23t3gP"
      },
      "execution_count": null,
      "outputs": []
    },
    {
      "cell_type": "markdown",
      "source": [
        "## Preprocessing"
      ],
      "metadata": {
        "id": "zqJIdQbLo_qj"
      }
    },
    {
      "cell_type": "code",
      "source": [
        "features = ['sepal length (cm)', 'sepal width (cm)', 'petal length (cm)', 'petal width (cm)']\n",
        "X = \"what goes here?\"\n",
        "y = \"what goes here?\""
      ],
      "metadata": {
        "id": "U2FZFu8zZo-8"
      },
      "execution_count": null,
      "outputs": []
    },
    {
      "cell_type": "code",
      "source": [
        "X_train, X_test, y_train, y_test = train_test_split(X, y, test_size = 0.3, random_state=12)\n",
        "print(f\"Train features length: {len(X_train)}, label train length: {len(y_train)}\")\n",
        "print(f\"Test features length: {len(X_test)}, label test length: {len(y_test)}\")"
      ],
      "metadata": {
        "id": "ZWVGzm-R16cn"
      },
      "execution_count": null,
      "outputs": []
    },
    {
      "cell_type": "markdown",
      "source": [
        "## Training"
      ],
      "metadata": {
        "id": "LNpPgqOt5CL8"
      }
    },
    {
      "cell_type": "code",
      "source": [
        "dt_model = tree.DecisionTreeClassifier(random_state=1)\n",
        "dt_model.get_params()"
      ],
      "metadata": {
        "id": "S8Nx4jrb5U21"
      },
      "execution_count": null,
      "outputs": []
    },
    {
      "cell_type": "code",
      "source": [
        "dt_model.what_goes_here?(X_train, y_train)\n",
        "y_pred = dt_model.predict(X_test)\n",
        "y_pred"
      ],
      "metadata": {
        "id": "wPwmJ8eTt5kA"
      },
      "execution_count": null,
      "outputs": []
    },
    {
      "cell_type": "markdown",
      "source": [
        "## Testing"
      ],
      "metadata": {
        "id": "Ac8M6WuRt-BF"
      }
    },
    {
      "cell_type": "code",
      "source": [
        "from sklearn.metrics import accuracy_score\n",
        "total_records = len(y_test)\n",
        "num_correct = accuracy_score(y_test, y_pred, normalize=False) # normalize would round up to an integer, so we set it False\n",
        "print(\"what goes here?\")"
      ],
      "metadata": {
        "id": "XHIVdj8PyZ7h"
      },
      "execution_count": null,
      "outputs": []
    },
    {
      "cell_type": "markdown",
      "source": [
        "## Visualization"
      ],
      "metadata": {
        "id": "ksr7Qnki4Q1m"
      }
    },
    {
      "cell_type": "code",
      "source": [
        "fig = plt.figure(figsize=(15,18))\n",
        "viz = tree.plot_tree(\"what goes here?\", feature_names=\"what goes here?\", class_names=data['what goes here?'].unique(), filled=True)"
      ],
      "metadata": {
        "id": "yxtWN-pZ4Uut"
      },
      "execution_count": null,
      "outputs": []
    }
  ]
}