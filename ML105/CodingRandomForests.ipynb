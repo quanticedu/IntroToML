{
  "nbformat": 4,
  "nbformat_minor": 0,
  "metadata": {
    "colab": {
      "provenance": [],
      "include_colab_link": true
    },
    "kernelspec": {
      "name": "python3",
      "display_name": "Python 3"
    },
    "language_info": {
      "name": "python"
    }
  },
  "cells": [
    {
      "cell_type": "markdown",
      "metadata": {
        "id": "view-in-github",
        "colab_type": "text"
      },
      "source": [
        "<a href=\"https://colab.research.google.com/github/quanticedu/IntroToML/blob/main/ML105/CodingRandomForests.ipynb\" target=\"_parent\"><img src=\"https://colab.research.google.com/assets/colab-badge.svg\" alt=\"Open In Colab\"/></a>"
      ]
    },
    {
      "cell_type": "markdown",
      "source": [
        "## Initialization"
      ],
      "metadata": {
        "id": "UK3gBvzgW3Pe"
      }
    },
    {
      "cell_type": "code",
      "execution_count": null,
      "metadata": {
        "id": "4R5wGW0_WoTV"
      },
      "outputs": [],
      "source": [
        "from sklearn.model_selection import train_test_split\n",
        "from sklearn.ensemble import RandomForestRegressor\n",
        "import pandas as pd"
      ]
    },
    {
      "cell_type": "code",
      "source": [
        "col_index = [\"Sex\",\"Length\",\"Diameter\",\"Height\",\n",
        "              \"Whole weight\",\"Shucked weight\",\n",
        "              \"Viscera weight\",\"Shell weight\", \"Rings\"]\n",
        "data = pd.read_csv('https://archive.ics.uci.edu/ml/machine-learning-databases/abalone/abalone.data', index_col=False)\n",
        "data.columns = col_index\n",
        "data"
      ],
      "metadata": {
        "id": "eewYKMy-ZyM1"
      },
      "execution_count": null,
      "outputs": []
    },
    {
      "cell_type": "markdown",
      "source": [
        "## Exploration"
      ],
      "metadata": {
        "id": "CFE32B9iaiJw"
      }
    },
    {
      "cell_type": "code",
      "source": [
        "data.describe(include=\"all\")"
      ],
      "metadata": {
        "id": "kaFzgOOMamGz"
      },
      "execution_count": null,
      "outputs": []
    },
    {
      "cell_type": "markdown",
      "source": [
        "The rings around an abalone's shell are used to determine its age: more rings means the abalone is older. (Age is what we're trying to predict with this model.)"
      ],
      "metadata": {
        "id": "kcvftIEUf0qm"
      }
    },
    {
      "cell_type": "code",
      "source": [
        "data.info()"
      ],
      "metadata": {
        "id": "m4OY3rwEbIxO"
      },
      "execution_count": null,
      "outputs": []
    },
    {
      "cell_type": "code",
      "source": [
        "data.isna().sum()"
      ],
      "metadata": {
        "id": "t4MNWMeYdXP0"
      },
      "execution_count": null,
      "outputs": []
    },
    {
      "cell_type": "markdown",
      "source": [
        "## Preprocessing"
      ],
      "metadata": {
        "id": "7s0m-c1fbgcr"
      }
    },
    {
      "cell_type": "code",
      "source": [
        "y = what_goes_here?\n",
        "y"
      ],
      "metadata": {
        "id": "VhlApIyKbT5Y"
      },
      "execution_count": null,
      "outputs": []
    },
    {
      "cell_type": "code",
      "source": [
        "features = what_goes_here?\n",
        "features"
      ],
      "metadata": {
        "id": "osD50Elgcslc"
      },
      "execution_count": null,
      "outputs": []
    },
    {
      "cell_type": "code",
      "source": [
        "X = what_goes_here?\n",
        "X"
      ],
      "metadata": {
        "id": "npJq0YqUeCDE"
      },
      "execution_count": null,
      "outputs": []
    },
    {
      "cell_type": "code",
      "source": [
        "X_train, X_test, y_train, y_test = train_test_split(X, y, test_size = 0.3, random_state=3)\n",
        "X_train = X_train.values\n",
        "print(f\"X train set length: {len(X_train)}, y train set length: {len(y_train)}\")\n",
        "print(f\"X test set length: {len(X_test)}, y test set length: {len(y_test)}\")"
      ],
      "metadata": {
        "id": "rNQbs3Vnev6_"
      },
      "execution_count": null,
      "outputs": []
    },
    {
      "cell_type": "markdown",
      "source": [
        "## Training"
      ],
      "metadata": {
        "id": "Tu_186ni-nqb"
      }
    },
    {
      "cell_type": "code",
      "source": [
        "rf_model = RandomForestRegressor(random_state=1, max_samples=0.5)\n",
        "rf_model.get_params()"
      ],
      "metadata": {
        "id": "REYvZGk0gw8R"
      },
      "execution_count": null,
      "outputs": []
    },
    {
      "cell_type": "code",
      "source": [
        "rf_model.what_goes_here?(X_train, y_train)"
      ],
      "metadata": {
        "id": "dST3B95Ng-Rn"
      },
      "execution_count": null,
      "outputs": []
    },
    {
      "cell_type": "markdown",
      "source": [
        "## Testing"
      ],
      "metadata": {
        "id": "wwEvboYSk_x4"
      }
    },
    {
      "cell_type": "code",
      "source": [
        "y_pred = rf_model.predict(X_test.values)\n",
        "y_pred"
      ],
      "metadata": {
        "id": "y-PojN74iUW-"
      },
      "execution_count": null,
      "outputs": []
    },
    {
      "cell_type": "code",
      "source": [
        "from sklearn.metrics import mean_squared_error\n",
        "\n",
        "mse = mean_squared_error(y_test, y_pred)\n",
        "print(f\"MSE: {mse}\")"
      ],
      "metadata": {
        "id": "ofwqAuhRlENm"
      },
      "execution_count": null,
      "outputs": []
    },
    {
      "cell_type": "markdown",
      "source": [
        "Since MSE is not as easily interpreted as mean accuracy, let's compare the model's output to the results on a couple test examples."
      ],
      "metadata": {
        "id": "4cEfiVwwr9xH"
      }
    },
    {
      "cell_type": "code",
      "source": [
        "from random import seed, sample\n",
        "\n",
        "def sample_predictions(model):\n",
        "  seed(42)\n",
        "  indices = sample(range(len(X_test)), 5)\n",
        "  examples = X_test.iloc[indices,:].values\n",
        "  labels = y_test.iloc[indices]\n",
        "  predictions = model.predict(examples)\n",
        "\n",
        "  for index, label, prediction in zip(indices, labels, predictions):\n",
        "    print(f\"Example {index}: The abalone's actual ring count is {label}, predicted ring count is {prediction}.\")\n",
        "\n",
        "  test_predictions = model.predict(X_test.values)\n",
        "  print(f\"MSE for this model is {mean_squared_error(y_test, test_predictions)}\" )"
      ],
      "metadata": {
        "id": "c7zEP6YqylBJ"
      },
      "execution_count": null,
      "outputs": []
    },
    {
      "cell_type": "code",
      "source": [
        "sample_predictions(rf_model)"
      ],
      "metadata": {
        "id": "qcJu6JzmooX-"
      },
      "execution_count": null,
      "outputs": []
    },
    {
      "cell_type": "markdown",
      "source": [
        "## Iteration"
      ],
      "metadata": {
        "id": "2PLTQMgdqCIt"
      }
    },
    {
      "cell_type": "markdown",
      "source": [
        "Let's try out a few different hyperparameter settings and see which version of the model performs best."
      ],
      "metadata": {
        "id": "aEbcilIKAXY4"
      }
    },
    {
      "cell_type": "code",
      "source": [
        "alternative_rf_model_1 = RandomForestRegressor(random_state=1, max_samples=0.5, max_features=what_goes_here?)\n",
        "alternative_rf_model_1.fit(X_train,y_train)\n",
        "sample_predictions(alternative_rf_model_1)"
      ],
      "metadata": {
        "id": "gIERVinuqDww"
      },
      "execution_count": null,
      "outputs": []
    },
    {
      "cell_type": "code",
      "source": [
        "alternative_rf_model_2 = RandomForestRegressor(random_state=1, max_samples=0.5, max_features=1/3, n_estimators=200)\n",
        "alternative_rf_model_2.fit(X_train, y_train)\n",
        "sample_predictions(alternative_rf_model_2)"
      ],
      "metadata": {
        "id": "PnjB2gLkAV-k"
      },
      "execution_count": null,
      "outputs": []
    },
    {
      "cell_type": "code",
      "source": [
        "alternative_rf_model_3 = RandomForestRegressor(random_state=1, max_samples=0.5, max_features=1/3, n_estimators=500)\n",
        "alternative_rf_model_3.fit(X_train,y_train)\n",
        "sample_predictions(alternative_rf_model_3)"
      ],
      "metadata": {
        "id": "yZxihiPTBKOi"
      },
      "execution_count": null,
      "outputs": []
    },
    {
      "cell_type": "markdown",
      "source": [
        "## Deployment"
      ],
      "metadata": {
        "id": "-ekzmXTJpija"
      }
    },
    {
      "cell_type": "markdown",
      "source": [
        "After the hyperparameters have been tuned to our satisfaction, we'd proceed with deployment. This lesson omits that code for the sake of space."
      ],
      "metadata": {
        "id": "tuE_F7sTMoW_"
      }
    }
  ]
}