{
  "nbformat": 4,
  "nbformat_minor": 0,
  "metadata": {
    "colab": {
      "provenance": [],
      "include_colab_link": true
    },
    "kernelspec": {
      "name": "python3",
      "display_name": "Python 3"
    },
    "language_info": {
      "name": "python"
    }
  },
  "cells": [
    {
      "cell_type": "markdown",
      "metadata": {
        "id": "view-in-github",
        "colab_type": "text"
      },
      "source": [
        "<a href=\"https://colab.research.google.com/github/quanticedu/IntroToML/blob/main/ML106/CodingKmeans.ipynb\" target=\"_parent\"><img src=\"https://colab.research.google.com/assets/colab-badge.svg\" alt=\"Open In Colab\"/></a>"
      ]
    },
    {
      "cell_type": "code",
      "execution_count": null,
      "metadata": {
        "id": "RdEvxDALSF4y"
      },
      "outputs": [],
      "source": [
        "import pandas as pd\n",
        "import matplotlib.pyplot as plt\n",
        "from sklearn.cluster import KMeans"
      ]
    },
    {
      "cell_type": "code",
      "source": [
        "from google.colab import drive\n",
        "from google.colab import files\n",
        "drive.mount('/content/drive')"
      ],
      "metadata": {
        "id": "61-1W-zuh8se"
      },
      "execution_count": null,
      "outputs": []
    },
    {
      "cell_type": "code",
      "source": [
        "data = pd.read_csv('/content/drive/My Drive/CA_fans.csv')\n",
        "print(f\"Dataset Shape {data.shape}\")\n",
        "data.head()"
      ],
      "metadata": {
        "id": "41ZLr6XDnoYp"
      },
      "execution_count": null,
      "outputs": []
    },
    {
      "cell_type": "markdown",
      "source": [
        "## Visualization"
      ],
      "metadata": {
        "id": "9AhaUaIJvyiB"
      }
    },
    {
      "cell_type": "code",
      "source": [
        "fig, ax = plt.subplots(figsize=(10,8))\n",
        "\n",
        "ax.scatter(data[\"longitude\"], data[\"latitude\"], s=0.1)\n",
        "\n",
        "ax.set(xlabel='Latitude', ylabel='Longitude',\n",
        "       title=\"The Rolling Groans' CA Tour\")\n",
        "ax.grid()\n",
        "plt.show()"
      ],
      "metadata": {
        "id": "GGlcigQqolXL"
      },
      "execution_count": null,
      "outputs": []
    },
    {
      "cell_type": "markdown",
      "source": [
        "## Elbow Method\n"
      ],
      "metadata": {
        "id": "TYY_Y1dRE0ZQ"
      }
    },
    {
      "cell_type": "code",
      "source": [
        "inertias = []\n",
        "clusters = range(2,20)\n",
        "for cluster in clusters:\n",
        "  kmeans = KMeans(n_clusters=what_goes_here?)\n",
        "  kmeans.fit(data)\n",
        "  inertias.append(what_goes_here?)"
      ],
      "metadata": {
        "id": "v24S77lnB2iv"
      },
      "execution_count": null,
      "outputs": []
    },
    {
      "cell_type": "code",
      "source": [
        "plt.plot(clusters, inertias)\n",
        "plt.xticks(clusters)\n",
        "plt.xlabel(\"Number of Clusters\")\n",
        "plt.ylabel(\"Inertias\")\n",
        "plt.grid(True)\n",
        "plt.show()"
      ],
      "metadata": {
        "id": "1Mko_-lKFInU"
      },
      "execution_count": null,
      "outputs": []
    },
    {
      "cell_type": "markdown",
      "source": [
        "## Choosing $k$ and plotting the model"
      ],
      "metadata": {
        "id": "07gJ4xTBIswr"
      }
    },
    {
      "cell_type": "code",
      "source": [
        "kmeans = KMeans(what_goes_here?)\n",
        "kmeans.fit(data)"
      ],
      "metadata": {
        "id": "ejfk7lISzb9t"
      },
      "execution_count": null,
      "outputs": []
    },
    {
      "cell_type": "markdown",
      "source": [
        "## Visualizing the model"
      ],
      "metadata": {
        "id": "0VXzT81SDewS"
      }
    },
    {
      "cell_type": "code",
      "source": [
        "import seaborn as sns\n",
        "\n",
        "sns.set(rc = {'figure.figsize':(10,8)},\n",
        "        style=\"white\", color_codes=True)\n",
        "\n",
        "combined_df = pd.concat([data, pd.DataFrame({'CLUSTER':kmeans.labels_})], axis=1)\n",
        "\n",
        "a = sns.scatterplot(x=\"latitude\", y=\"longitude\", palette='Set1', hue=\"CLUSTER\",\n",
        "                    data=combined_df, alpha=0.5, s=7)\n",
        "\n",
        "label_index = []\n",
        "for idx, label in enumerate(kmeans.cluster_centers_):\n",
        "  label_index.append(idx)\n",
        "sns.scatterplot(x=kmeans.cluster_centers_[:,1],y=kmeans.cluster_centers_[:,0], palette='Set1', hue=label_index, s=400)"
      ],
      "metadata": {
        "id": "CNaz7kAI0ey0"
      },
      "execution_count": null,
      "outputs": []
    },
    {
      "cell_type": "code",
      "source": [
        "print(kmeans.cluster_centers_)"
      ],
      "metadata": {
        "id": "ckHCqDCaZjog"
      },
      "execution_count": null,
      "outputs": []
    }
  ]
}