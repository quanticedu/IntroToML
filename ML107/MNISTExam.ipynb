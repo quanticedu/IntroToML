{
  "nbformat": 4,
  "nbformat_minor": 0,
  "metadata": {
    "colab": {
      "provenance": [],
      "include_colab_link": true
    },
    "kernelspec": {
      "name": "python3",
      "display_name": "Python 3"
    },
    "language_info": {
      "name": "python"
    },
    "gpuClass": "standard"
  },
  "cells": [
    {
      "cell_type": "markdown",
      "metadata": {
        "id": "view-in-github",
        "colab_type": "text"
      },
      "source": [
        "<a href=\"https://colab.research.google.com/github/quanticedu/IntroToML/blob/main/ML107/MNISTExam.ipynb\" target=\"_parent\"><img src=\"https://colab.research.google.com/assets/colab-badge.svg\" alt=\"Open In Colab\"/></a>"
      ]
    },
    {
      "cell_type": "markdown",
      "source": [
        "## MNIST\n",
        "Using the [MNIST](http://yann.lecun.com/exdb/mnist/) database, we'll train a model that can recognize handwritten digits."
      ],
      "metadata": {
        "id": "AMP8aKd-y1Ro"
      }
    },
    {
      "cell_type": "code",
      "execution_count": null,
      "metadata": {
        "id": "XKPVoCJMy9kw"
      },
      "outputs": [],
      "source": [
        "import torch\n",
        "from torch.nn.modules.loss import CrossEntropyLoss\n",
        "import torch.nn as nn\n",
        "import torchvision\n",
        "import torchvision.transforms as transforms\n",
        "import matplotlib.pyplot as plt"
      ]
    },
    {
      "cell_type": "markdown",
      "source": [
        "## Let's use the GPU\n",
        "So you don't have to restart the runtime later in the notebook, let's tell Colab to use the GPU for hardware acceleration now.\n",
        "\n",
        "Go to Runtime > Change Runtime Type and select GPU, then continue."
      ],
      "metadata": {
        "id": "OLnyxWVJyjUm"
      }
    },
    {
      "cell_type": "code",
      "source": [
        "# device config\n",
        "device = torch.device('what goes here?' if torch.cuda.is_available() else 'what_goes_here?')\n",
        "print(\"Device: \", device)"
      ],
      "metadata": {
        "id": "cAATrM4UwxAV"
      },
      "execution_count": null,
      "outputs": []
    },
    {
      "cell_type": "code",
      "source": [
        "# hyperparameters\n",
        "features = what_goes_here? # images are 28x28\n",
        "hidden_size = 100 # how many neurons to have in our hidden layer\n",
        "num_labels = 10 # digits from 0-9\n",
        "num_epochs = 10\n",
        "batch_size = 100\n",
        "learning_rate = 0.001\n",
        "\n",
        "# This data comes straight from PyTorch's Computer Vision library\n",
        "train_dataset = torchvision.datasets.MNIST(root='./data', train=True, transform=transforms.ToTensor(), download=True)\n",
        "test_dataset = torchvision.datasets.MNIST(root='./data', train=False, transform=transforms.ToTensor())\n",
        "\n",
        "# dataloaders\n",
        "train_loader = torch.utils.data.DataLoader(dataset=train_dataset, batch_size=batch_size, shuffle=True)\n",
        "test_loader = torch.utils.data.DataLoader(dataset=test_dataset, batch_size=batch_size, shuffle=False) # no need to shuffle the test set"
      ],
      "metadata": {
        "id": "ugfZVlV8w_E2"
      },
      "execution_count": null,
      "outputs": []
    },
    {
      "cell_type": "code",
      "source": [
        "# looking at the data\n",
        "examples = iter(train_loader)\n",
        "samples, labels = next(examples)\n",
        "print(samples.shape, labels.shape)\n",
        "\n",
        "for i in range(6):\n",
        "  plt.subplot(2,3,i+1)\n",
        "  plt.imshow(samples[i][0], cmap='gray')\n",
        "  plt.show()"
      ],
      "metadata": {
        "id": "Ng9zZeAzKbx3"
      },
      "execution_count": null,
      "outputs": []
    },
    {
      "cell_type": "code",
      "source": [
        "class NeuralNet(nn.Module):\n",
        "  def __init__(self, features, hidden_size, num_labels):\n",
        "    super(NeuralNet, self).__init__()\n",
        "    self.l1 = nn.Linear(what_goes_here?) # first layer\n",
        "\n",
        "    self.relu = nn.ReLU()\n",
        "    self.l2 = nn.Linear(hidden_size, num_labels) # hidden layer to output\n",
        "    self.l2 = nn.Linear(what_goes_here?) # hidden layer to output\n",
        "\n",
        "  def forward(self, x):\n",
        "    out = self.l1(x)\n",
        "    out = self.relu(out)\n",
        "    out = self.l2(out)\n",
        "    return out\n",
        "\n",
        "model = NeuralNet(features, hidden_size, num_labels).to(device)"
      ],
      "metadata": {
        "id": "mEORHDv3KhXC"
      },
      "execution_count": null,
      "outputs": []
    },
    {
      "cell_type": "code",
      "source": [
        "# loss and optimizer\n",
        "loss_function = nn.CrossEntropyLoss()\n",
        "optimizer = torch.optim.SGD(model.parameters(), lr=learning_rate)\n",
        "\n",
        "# training loop\n",
        "n_total_steps = len(train_loader)\n",
        "for epoch in range(num_epochs):\n",
        "  for i, (images, labels) in enumerate(train_loader):\n",
        "    images = images.reshape(-1, 28*28).to(device) # reshape turns the 28x28 squares into a single (1,784) vector\n",
        "    labels = labels.to(device)\n",
        "\n",
        "    # forward pass\n",
        "    outputs = model(images)\n",
        "    loss = loss_function(outputs, labels)\n",
        "\n",
        "    # backward pass\n",
        "    optimizer.zero_grad()\n",
        "    loss.backward()\n",
        "    optimizer.step()\n",
        "\n",
        "    if (i + 1) % 100 == 0:\n",
        "      print(f'epoch {epoch+1} / {num_epochs}, batch {i+1}/{n_total_steps}, loss = {loss.item():.4f}')\n",
        "      if(i+1  == n_total_steps):\n",
        "        print(\"epoch complete!\")"
      ],
      "metadata": {
        "id": "G7-w9QAvLVWd"
      },
      "execution_count": null,
      "outputs": []
    },
    {
      "cell_type": "code",
      "source": [
        "with torch.no_grad():\n",
        "      n_correct = 0\n",
        "      n_samples = 0\n",
        "      for images, labels in test_loader:\n",
        "        images = images.reshape(-1, 28*28).to(device)\n",
        "        labels = labels.to(device)\n",
        "        outputs = model(images).to(device)\n",
        "        _, predictions = torch.max(outputs, 1) # we don't need the first value returned by torch.max, so discard it via the _\n",
        "        n_samples += labels.shape[0]\n",
        "        n_correct += (predictions == labels).sum().item()\n",
        "\n",
        "      acc = 100.0 * n_correct / n_samples\n",
        "      print(f'accuracy = {acc}')"
      ],
      "metadata": {
        "id": "Faff_fWvLmqu"
      },
      "execution_count": null,
      "outputs": []
    }
  ]
}